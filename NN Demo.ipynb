{
 "cells": [
  {
   "cell_type": "markdown",
   "metadata": {},
   "source": [
    "# Imports"
   ]
  },
  {
   "cell_type": "code",
   "execution_count": 8,
   "metadata": {},
   "outputs": [],
   "source": [
    "import tensorflow as tf\n",
    "from tensorflow.keras.models import Sequential\n",
    "from tensorflow.keras.layers import Conv2D, Dense, BatchNormalization, Activation, MaxPool2D, Flatten\n",
    "from tensorflow.keras.optimizers import Adam\n",
    "from tensorflow.keras.preprocessing.image import ImageDataGenerator\n",
    "\n",
    "from datetime import datetime"
   ]
  },
  {
   "cell_type": "code",
   "execution_count": 9,
   "metadata": {},
   "outputs": [
    {
     "data": {
      "text/plain": [
       "[PhysicalDevice(name='/physical_device:GPU:0', device_type='GPU')]"
      ]
     },
     "execution_count": 9,
     "metadata": {},
     "output_type": "execute_result"
    }
   ],
   "source": [
    "tf.config.list_physical_devices('GPU')"
   ]
  },
  {
   "cell_type": "markdown",
   "metadata": {},
   "source": [
    "# Network definition and summary"
   ]
  },
  {
   "cell_type": "code",
   "execution_count": 10,
   "metadata": {},
   "outputs": [
    {
     "name": "stdout",
     "output_type": "stream",
     "text": [
      "Model: \"sequential\"\n",
      "_________________________________________________________________\n",
      " Layer (type)                Output Shape              Param #   \n",
      "=================================================================\n",
      " conv2d (Conv2D)             (None, 512, 512, 8)       8200      \n",
      "                                                                 \n",
      " batch_normalization (BatchN  (None, 512, 512, 8)      32        \n",
      " ormalization)                                                   \n",
      "                                                                 \n",
      " activation (Activation)     (None, 512, 512, 8)       0         \n",
      "                                                                 \n",
      " max_pooling2d (MaxPooling2D  (None, 128, 128, 8)      0         \n",
      " )                                                               \n",
      "                                                                 \n",
      " conv2d_1 (Conv2D)           (None, 128, 128, 4)       516       \n",
      "                                                                 \n",
      " batch_normalization_1 (Batc  (None, 128, 128, 4)      16        \n",
      " hNormalization)                                                 \n",
      "                                                                 \n",
      " activation_1 (Activation)   (None, 128, 128, 4)       0         \n",
      "                                                                 \n",
      " max_pooling2d_1 (MaxPooling  (None, 64, 64, 4)        0         \n",
      " 2D)                                                             \n",
      "                                                                 \n",
      " flatten (Flatten)           (None, 16384)             0         \n",
      "                                                                 \n",
      " dense (Dense)               (None, 2)                 32770     \n",
      "                                                                 \n",
      "=================================================================\n",
      "Total params: 41,534\n",
      "Trainable params: 41,510\n",
      "Non-trainable params: 24\n",
      "_________________________________________________________________\n"
     ]
    }
   ],
   "source": [
    "model = Sequential([\n",
    "    Conv2D(filters=8, kernel_size=(8, 128), padding = 'same', input_shape=(512,512,1)),\n",
    "    BatchNormalization(),\n",
    "    Activation(activation = 'relu'),\n",
    "    MaxPool2D(pool_size = (4,4), padding='same'),\n",
    "    Conv2D(filters=4, kernel_size=(4, 4), activation='relu', padding='same'),\n",
    "    BatchNormalization(),\n",
    "    Activation(activation = 'relu'),\n",
    "    MaxPool2D(pool_size = (2,2), padding='same'),\n",
    "    Flatten(),\n",
    "    Dense(units=2, activation='softmax')\n",
    "])\n",
    "\n",
    "model.summary()"
   ]
  },
  {
   "cell_type": "markdown",
   "metadata": {},
   "source": [
    "# Training"
   ]
  },
  {
   "cell_type": "code",
   "execution_count": 11,
   "metadata": {},
   "outputs": [
    {
     "name": "stdout",
     "output_type": "stream",
     "text": [
      "Found 2932 images belonging to 2 classes.\n",
      "Found 344 images belonging to 2 classes.\n",
      "Found 172 images belonging to 2 classes.\n"
     ]
    }
   ],
   "source": [
    "dg = ImageDataGenerator()\n",
    "\n",
    "root = \"C:\\\\Users\\\\pierr\\\\Documents\\\\Projet DTY\\\\TrainSet\"\n",
    "\n",
    "train_batches = dg.flow_from_directory(directory=root+\"\\\\train\", target_size=(512,512), classes=['cleans', 'stegos'], color_mode = 'grayscale', batch_size = 1, class_mode = 'categorical', shuffle=True)\n",
    "valid_batches = dg.flow_from_directory(directory=root+\"\\\\valid\", target_size=(512,512), classes=['cleans', 'stegos'], color_mode = 'grayscale', batch_size = 1, class_mode = 'categorical', shuffle=True)\n",
    "test_batches = dg.flow_from_directory(directory=root+\"\\\\test\", target_size=(512,512), classes=['cleans', 'stegos'], color_mode = 'grayscale', batch_size = 1, shuffle=False, class_mode = 'categorical')"
   ]
  },
  {
   "cell_type": "code",
   "execution_count": 12,
   "metadata": {},
   "outputs": [
    {
     "name": "stdout",
     "output_type": "stream",
     "text": [
      "Epoch 1/10\n",
      "2932/2932 - 84s - loss: 1.0348 - accuracy: 0.5130 - val_loss: 0.8225 - val_accuracy: 0.5029 - 84s/epoch - 29ms/step\n",
      "Epoch 2/10\n",
      "2932/2932 - 84s - loss: 0.6786 - accuracy: 0.6293 - val_loss: 0.8813 - val_accuracy: 0.5378 - 84s/epoch - 29ms/step\n",
      "Epoch 3/10\n",
      "2932/2932 - 86s - loss: 0.4156 - accuracy: 0.8087 - val_loss: 0.7111 - val_accuracy: 0.6860 - 86s/epoch - 29ms/step\n",
      "Epoch 4/10\n",
      "2932/2932 - 89s - loss: 0.1586 - accuracy: 0.9454 - val_loss: 0.5915 - val_accuracy: 0.8052 - 89s/epoch - 30ms/step\n",
      "Epoch 5/10\n",
      "2932/2932 - 92s - loss: 0.0942 - accuracy: 0.9642 - val_loss: 2.3537 - val_accuracy: 0.5785 - 92s/epoch - 31ms/step\n",
      "Epoch 6/10\n",
      "2932/2932 - 95s - loss: 0.0428 - accuracy: 0.9853 - val_loss: 0.6125 - val_accuracy: 0.8401 - 95s/epoch - 32ms/step\n",
      "Epoch 7/10\n",
      "2932/2932 - 95s - loss: 0.0332 - accuracy: 0.9887 - val_loss: 0.8235 - val_accuracy: 0.8372 - 95s/epoch - 32ms/step\n",
      "Epoch 8/10\n",
      "2932/2932 - 94s - loss: 0.0390 - accuracy: 0.9843 - val_loss: 0.6676 - val_accuracy: 0.8401 - 94s/epoch - 32ms/step\n",
      "Epoch 9/10\n",
      "2932/2932 - 94s - loss: 0.0168 - accuracy: 0.9942 - val_loss: 0.8282 - val_accuracy: 0.8401 - 94s/epoch - 32ms/step\n",
      "Epoch 10/10\n",
      "2932/2932 - 94s - loss: 0.0213 - accuracy: 0.9928 - val_loss: 0.9262 - val_accuracy: 0.8256 - 94s/epoch - 32ms/step\n"
     ]
    },
    {
     "data": {
      "text/plain": [
       "<keras.callbacks.History at 0x23f2e4cb9a0>"
      ]
     },
     "execution_count": 12,
     "metadata": {},
     "output_type": "execute_result"
    }
   ],
   "source": [
    "lrate = 10**-4\n",
    "\n",
    "model.compile(optimizer = Adam(learning_rate = lrate), loss='categorical_crossentropy', metrics=['accuracy'])\n",
    "model.fit(x=train_batches,\n",
    "    steps_per_epoch=len(train_batches),\n",
    "    validation_data=valid_batches,\n",
    "    validation_steps=len(valid_batches),\n",
    "    epochs=10,\n",
    "    verbose=2\n",
    ")"
   ]
  },
  {
   "cell_type": "markdown",
   "metadata": {},
   "source": [
    "# Testing"
   ]
  },
  {
   "cell_type": "code",
   "execution_count": 13,
   "metadata": {},
   "outputs": [
    {
     "name": "stdout",
     "output_type": "stream",
     "text": [
      "172/172 [==============================] - 4s 21ms/step - loss: 0.6301 - accuracy: 0.8721\n"
     ]
    },
    {
     "data": {
      "text/plain": [
       "[0.630129873752594, 0.8720930218696594]"
      ]
     },
     "execution_count": 13,
     "metadata": {},
     "output_type": "execute_result"
    }
   ],
   "source": [
    "model.evaluate(x = test_batches)"
   ]
  },
  {
   "cell_type": "markdown",
   "metadata": {},
   "source": [
    "# Save"
   ]
  },
  {
   "cell_type": "code",
   "execution_count": 14,
   "metadata": {},
   "outputs": [
    {
     "name": "stderr",
     "output_type": "stream",
     "text": [
      "WARNING:absl:Found untraced functions such as _jit_compiled_convolution_op, _jit_compiled_convolution_op while saving (showing 2 of 2). These functions will not be directly callable after loading.\n"
     ]
    },
    {
     "name": "stdout",
     "output_type": "stream",
     "text": [
      "INFO:tensorflow:Assets written to: models\\model-19-05-2022 14h41m12s\\assets\n"
     ]
    },
    {
     "name": "stderr",
     "output_type": "stream",
     "text": [
      "INFO:tensorflow:Assets written to: models\\model-19-05-2022 14h41m12s\\assets\n"
     ]
    }
   ],
   "source": [
    "now = datetime.now().strftime(\"%d-%m-%Y %Hh%Mm%Ss\")\n",
    "\n",
    "model.save(\"models\\\\model-\"+now)"
   ]
  }
 ],
 "metadata": {
  "interpreter": {
   "hash": "c4ffc812851e89f5d22828b1cd005f4d529ef386176abc0a6f3a5bdaa0527b5e"
  },
  "kernelspec": {
   "display_name": "Python 3.10.0 64-bit",
   "language": "python",
   "name": "python3"
  },
  "language_info": {
   "codemirror_mode": {
    "name": "ipython",
    "version": 3
   },
   "file_extension": ".py",
   "mimetype": "text/x-python",
   "name": "python",
   "nbconvert_exporter": "python",
   "pygments_lexer": "ipython3",
   "version": "3.9.7"
  },
  "orig_nbformat": 4
 },
 "nbformat": 4,
 "nbformat_minor": 2
}
